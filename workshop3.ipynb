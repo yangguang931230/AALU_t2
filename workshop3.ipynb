{
  "nbformat": 4,
  "nbformat_minor": 0,
  "metadata": {
    "colab": {
      "name": "workshop3",
      "provenance": [],
      "authorship_tag": "ABX9TyM5Oksuk5xduNgijs1I/YXW",
      "include_colab_link": true
    },
    "kernelspec": {
      "name": "python3",
      "display_name": "Python 3"
    },
    "language_info": {
      "name": "python"
    },
    "accelerator": "GPU"
  },
  "cells": [
    {
      "cell_type": "markdown",
      "metadata": {
        "id": "view-in-github",
        "colab_type": "text"
      },
      "source": [
        "<a href=\"https://colab.research.google.com/github/yangguang931230/AALU_t2/blob/main/workshop3.ipynb\" target=\"_parent\"><img src=\"https://colab.research.google.com/assets/colab-badge.svg\" alt=\"Open In Colab\"/></a>"
      ]
    },
    {
      "cell_type": "code",
      "execution_count": 3,
      "metadata": {
        "colab": {
          "base_uri": "https://localhost:8080/"
        },
        "id": "EOjceu6VsFVY",
        "outputId": "0233e113-94d4-4408-beb4-b1b9df5c27c0"
      },
      "outputs": [
        {
          "output_type": "stream",
          "name": "stdout",
          "text": [
            "Python 3.7.12\n"
          ]
        }
      ],
      "source": [
        "!python --version"
      ]
    },
    {
      "cell_type": "code",
      "source": [
        "from platform import python_version\n",
        "print(python_version())"
      ],
      "metadata": {
        "colab": {
          "base_uri": "https://localhost:8080/"
        },
        "id": "6xio9UXOsYZN",
        "outputId": "0af9cc84-6f9b-49c3-8b84-2ee4b91d7366"
      },
      "execution_count": 1,
      "outputs": [
        {
          "output_type": "stream",
          "name": "stdout",
          "text": [
            "3.7.12\n"
          ]
        }
      ]
    },
    {
      "cell_type": "code",
      "source": [
        "!pip install geopandas"
      ],
      "metadata": {
        "colab": {
          "base_uri": "https://localhost:8080/"
        },
        "id": "8KDSI_zHs53p",
        "outputId": "4ed4b6e9-7d4c-4dee-de1f-8398262d44e9"
      },
      "execution_count": 2,
      "outputs": [
        {
          "output_type": "stream",
          "name": "stdout",
          "text": [
            "Collecting geopandas\n",
            "  Downloading geopandas-0.10.2-py2.py3-none-any.whl (1.0 MB)\n",
            "\u001b[?25l\r\u001b[K     |▎                               | 10 kB 43.1 MB/s eta 0:00:01\r\u001b[K     |▋                               | 20 kB 49.6 MB/s eta 0:00:01\r\u001b[K     |█                               | 30 kB 41.6 MB/s eta 0:00:01\r\u001b[K     |█▎                              | 40 kB 43.5 MB/s eta 0:00:01\r\u001b[K     |█▋                              | 51 kB 36.1 MB/s eta 0:00:01\r\u001b[K     |██                              | 61 kB 28.9 MB/s eta 0:00:01\r\u001b[K     |██▎                             | 71 kB 26.0 MB/s eta 0:00:01\r\u001b[K     |██▌                             | 81 kB 27.9 MB/s eta 0:00:01\r\u001b[K     |██▉                             | 92 kB 29.7 MB/s eta 0:00:01\r\u001b[K     |███▏                            | 102 kB 29.1 MB/s eta 0:00:01\r\u001b[K     |███▌                            | 112 kB 29.1 MB/s eta 0:00:01\r\u001b[K     |███▉                            | 122 kB 29.1 MB/s eta 0:00:01\r\u001b[K     |████▏                           | 133 kB 29.1 MB/s eta 0:00:01\r\u001b[K     |████▌                           | 143 kB 29.1 MB/s eta 0:00:01\r\u001b[K     |████▊                           | 153 kB 29.1 MB/s eta 0:00:01\r\u001b[K     |█████                           | 163 kB 29.1 MB/s eta 0:00:01\r\u001b[K     |█████▍                          | 174 kB 29.1 MB/s eta 0:00:01\r\u001b[K     |█████▊                          | 184 kB 29.1 MB/s eta 0:00:01\r\u001b[K     |██████                          | 194 kB 29.1 MB/s eta 0:00:01\r\u001b[K     |██████▍                         | 204 kB 29.1 MB/s eta 0:00:01\r\u001b[K     |██████▊                         | 215 kB 29.1 MB/s eta 0:00:01\r\u001b[K     |███████                         | 225 kB 29.1 MB/s eta 0:00:01\r\u001b[K     |███████▎                        | 235 kB 29.1 MB/s eta 0:00:01\r\u001b[K     |███████▋                        | 245 kB 29.1 MB/s eta 0:00:01\r\u001b[K     |████████                        | 256 kB 29.1 MB/s eta 0:00:01\r\u001b[K     |████████▎                       | 266 kB 29.1 MB/s eta 0:00:01\r\u001b[K     |████████▋                       | 276 kB 29.1 MB/s eta 0:00:01\r\u001b[K     |█████████                       | 286 kB 29.1 MB/s eta 0:00:01\r\u001b[K     |█████████▏                      | 296 kB 29.1 MB/s eta 0:00:01\r\u001b[K     |█████████▌                      | 307 kB 29.1 MB/s eta 0:00:01\r\u001b[K     |█████████▉                      | 317 kB 29.1 MB/s eta 0:00:01\r\u001b[K     |██████████▏                     | 327 kB 29.1 MB/s eta 0:00:01\r\u001b[K     |██████████▌                     | 337 kB 29.1 MB/s eta 0:00:01\r\u001b[K     |██████████▉                     | 348 kB 29.1 MB/s eta 0:00:01\r\u001b[K     |███████████▏                    | 358 kB 29.1 MB/s eta 0:00:01\r\u001b[K     |███████████▍                    | 368 kB 29.1 MB/s eta 0:00:01\r\u001b[K     |███████████▊                    | 378 kB 29.1 MB/s eta 0:00:01\r\u001b[K     |████████████                    | 389 kB 29.1 MB/s eta 0:00:01\r\u001b[K     |████████████▍                   | 399 kB 29.1 MB/s eta 0:00:01\r\u001b[K     |████████████▊                   | 409 kB 29.1 MB/s eta 0:00:01\r\u001b[K     |█████████████                   | 419 kB 29.1 MB/s eta 0:00:01\r\u001b[K     |█████████████▍                  | 430 kB 29.1 MB/s eta 0:00:01\r\u001b[K     |█████████████▋                  | 440 kB 29.1 MB/s eta 0:00:01\r\u001b[K     |██████████████                  | 450 kB 29.1 MB/s eta 0:00:01\r\u001b[K     |██████████████▎                 | 460 kB 29.1 MB/s eta 0:00:01\r\u001b[K     |██████████████▋                 | 471 kB 29.1 MB/s eta 0:00:01\r\u001b[K     |███████████████                 | 481 kB 29.1 MB/s eta 0:00:01\r\u001b[K     |███████████████▎                | 491 kB 29.1 MB/s eta 0:00:01\r\u001b[K     |███████████████▋                | 501 kB 29.1 MB/s eta 0:00:01\r\u001b[K     |███████████████▉                | 512 kB 29.1 MB/s eta 0:00:01\r\u001b[K     |████████████████▏               | 522 kB 29.1 MB/s eta 0:00:01\r\u001b[K     |████████████████▌               | 532 kB 29.1 MB/s eta 0:00:01\r\u001b[K     |████████████████▉               | 542 kB 29.1 MB/s eta 0:00:01\r\u001b[K     |█████████████████▏              | 552 kB 29.1 MB/s eta 0:00:01\r\u001b[K     |█████████████████▌              | 563 kB 29.1 MB/s eta 0:00:01\r\u001b[K     |█████████████████▉              | 573 kB 29.1 MB/s eta 0:00:01\r\u001b[K     |██████████████████              | 583 kB 29.1 MB/s eta 0:00:01\r\u001b[K     |██████████████████▍             | 593 kB 29.1 MB/s eta 0:00:01\r\u001b[K     |██████████████████▊             | 604 kB 29.1 MB/s eta 0:00:01\r\u001b[K     |███████████████████             | 614 kB 29.1 MB/s eta 0:00:01\r\u001b[K     |███████████████████▍            | 624 kB 29.1 MB/s eta 0:00:01\r\u001b[K     |███████████████████▊            | 634 kB 29.1 MB/s eta 0:00:01\r\u001b[K     |████████████████████            | 645 kB 29.1 MB/s eta 0:00:01\r\u001b[K     |████████████████████▎           | 655 kB 29.1 MB/s eta 0:00:01\r\u001b[K     |████████████████████▋           | 665 kB 29.1 MB/s eta 0:00:01\r\u001b[K     |█████████████████████           | 675 kB 29.1 MB/s eta 0:00:01\r\u001b[K     |█████████████████████▎          | 686 kB 29.1 MB/s eta 0:00:01\r\u001b[K     |█████████████████████▋          | 696 kB 29.1 MB/s eta 0:00:01\r\u001b[K     |██████████████████████          | 706 kB 29.1 MB/s eta 0:00:01\r\u001b[K     |██████████████████████▎         | 716 kB 29.1 MB/s eta 0:00:01\r\u001b[K     |██████████████████████▋         | 727 kB 29.1 MB/s eta 0:00:01\r\u001b[K     |██████████████████████▉         | 737 kB 29.1 MB/s eta 0:00:01\r\u001b[K     |███████████████████████▏        | 747 kB 29.1 MB/s eta 0:00:01\r\u001b[K     |███████████████████████▌        | 757 kB 29.1 MB/s eta 0:00:01\r\u001b[K     |███████████████████████▉        | 768 kB 29.1 MB/s eta 0:00:01\r\u001b[K     |████████████████████████▏       | 778 kB 29.1 MB/s eta 0:00:01\r\u001b[K     |████████████████████████▌       | 788 kB 29.1 MB/s eta 0:00:01\r\u001b[K     |████████████████████████▉       | 798 kB 29.1 MB/s eta 0:00:01\r\u001b[K     |█████████████████████████       | 808 kB 29.1 MB/s eta 0:00:01\r\u001b[K     |█████████████████████████▍      | 819 kB 29.1 MB/s eta 0:00:01\r\u001b[K     |█████████████████████████▊      | 829 kB 29.1 MB/s eta 0:00:01\r\u001b[K     |██████████████████████████      | 839 kB 29.1 MB/s eta 0:00:01\r\u001b[K     |██████████████████████████▍     | 849 kB 29.1 MB/s eta 0:00:01\r\u001b[K     |██████████████████████████▊     | 860 kB 29.1 MB/s eta 0:00:01\r\u001b[K     |███████████████████████████     | 870 kB 29.1 MB/s eta 0:00:01\r\u001b[K     |███████████████████████████▎    | 880 kB 29.1 MB/s eta 0:00:01\r\u001b[K     |███████████████████████████▋    | 890 kB 29.1 MB/s eta 0:00:01\r\u001b[K     |████████████████████████████    | 901 kB 29.1 MB/s eta 0:00:01\r\u001b[K     |████████████████████████████▎   | 911 kB 29.1 MB/s eta 0:00:01\r\u001b[K     |████████████████████████████▋   | 921 kB 29.1 MB/s eta 0:00:01\r\u001b[K     |█████████████████████████████   | 931 kB 29.1 MB/s eta 0:00:01\r\u001b[K     |█████████████████████████████▎  | 942 kB 29.1 MB/s eta 0:00:01\r\u001b[K     |█████████████████████████████▌  | 952 kB 29.1 MB/s eta 0:00:01\r\u001b[K     |█████████████████████████████▉  | 962 kB 29.1 MB/s eta 0:00:01\r\u001b[K     |██████████████████████████████▏ | 972 kB 29.1 MB/s eta 0:00:01\r\u001b[K     |██████████████████████████████▌ | 983 kB 29.1 MB/s eta 0:00:01\r\u001b[K     |██████████████████████████████▉ | 993 kB 29.1 MB/s eta 0:00:01\r\u001b[K     |███████████████████████████████▏| 1.0 MB 29.1 MB/s eta 0:00:01\r\u001b[K     |███████████████████████████████▌| 1.0 MB 29.1 MB/s eta 0:00:01\r\u001b[K     |███████████████████████████████▊| 1.0 MB 29.1 MB/s eta 0:00:01\r\u001b[K     |████████████████████████████████| 1.0 MB 29.1 MB/s \n",
            "\u001b[?25hRequirement already satisfied: shapely>=1.6 in /usr/local/lib/python3.7/dist-packages (from geopandas) (1.8.0)\n",
            "Collecting fiona>=1.8\n",
            "  Downloading Fiona-1.8.20-cp37-cp37m-manylinux1_x86_64.whl (15.4 MB)\n",
            "\u001b[K     |████████████████████████████████| 15.4 MB 69.0 MB/s \n",
            "\u001b[?25hCollecting pyproj>=2.2.0\n",
            "  Downloading pyproj-3.2.1-cp37-cp37m-manylinux2010_x86_64.whl (6.3 MB)\n",
            "\u001b[K     |████████████████████████████████| 6.3 MB 66.2 MB/s \n",
            "\u001b[?25hRequirement already satisfied: pandas>=0.25.0 in /usr/local/lib/python3.7/dist-packages (from geopandas) (1.1.5)\n",
            "Requirement already satisfied: attrs>=17 in /usr/local/lib/python3.7/dist-packages (from fiona>=1.8->geopandas) (21.4.0)\n",
            "Collecting click-plugins>=1.0\n",
            "  Downloading click_plugins-1.1.1-py2.py3-none-any.whl (7.5 kB)\n",
            "Requirement already satisfied: click>=4.0 in /usr/local/lib/python3.7/dist-packages (from fiona>=1.8->geopandas) (7.1.2)\n",
            "Collecting cligj>=0.5\n",
            "  Downloading cligj-0.7.2-py3-none-any.whl (7.1 kB)\n",
            "Requirement already satisfied: certifi in /usr/local/lib/python3.7/dist-packages (from fiona>=1.8->geopandas) (2021.10.8)\n",
            "Requirement already satisfied: setuptools in /usr/local/lib/python3.7/dist-packages (from fiona>=1.8->geopandas) (57.4.0)\n",
            "Collecting munch\n",
            "  Downloading munch-2.5.0-py2.py3-none-any.whl (10 kB)\n",
            "Requirement already satisfied: six>=1.7 in /usr/local/lib/python3.7/dist-packages (from fiona>=1.8->geopandas) (1.15.0)\n",
            "Requirement already satisfied: pytz>=2017.2 in /usr/local/lib/python3.7/dist-packages (from pandas>=0.25.0->geopandas) (2018.9)\n",
            "Requirement already satisfied: python-dateutil>=2.7.3 in /usr/local/lib/python3.7/dist-packages (from pandas>=0.25.0->geopandas) (2.8.2)\n",
            "Requirement already satisfied: numpy>=1.15.4 in /usr/local/lib/python3.7/dist-packages (from pandas>=0.25.0->geopandas) (1.19.5)\n",
            "Installing collected packages: munch, cligj, click-plugins, pyproj, fiona, geopandas\n",
            "Successfully installed click-plugins-1.1.1 cligj-0.7.2 fiona-1.8.20 geopandas-0.10.2 munch-2.5.0 pyproj-3.2.1\n"
          ]
        }
      ]
    },
    {
      "cell_type": "code",
      "source": [
        "!pip show geopandas"
      ],
      "metadata": {
        "colab": {
          "base_uri": "https://localhost:8080/"
        },
        "id": "9s-59jfAtKBX",
        "outputId": "6df59e00-9235-4a86-b768-596c6b7c0083"
      },
      "execution_count": 3,
      "outputs": [
        {
          "output_type": "stream",
          "name": "stdout",
          "text": [
            "Name: geopandas\n",
            "Version: 0.10.2\n",
            "Summary: Geographic pandas extensions\n",
            "Home-page: http://geopandas.org\n",
            "Author: GeoPandas contributors\n",
            "Author-email: kjordahl@alum.mit.edu\n",
            "License: BSD\n",
            "Location: /usr/local/lib/python3.7/dist-packages\n",
            "Requires: pyproj, shapely, fiona, pandas\n",
            "Required-by: \n"
          ]
        }
      ]
    },
    {
      "cell_type": "code",
      "source": [
        "!pip uninstall geopandas"
      ],
      "metadata": {
        "colab": {
          "base_uri": "https://localhost:8080/"
        },
        "id": "tVMQ_zbttrhs",
        "outputId": "24310673-a32f-4b00-b112-5bd338b5f736"
      },
      "execution_count": 4,
      "outputs": [
        {
          "output_type": "stream",
          "name": "stdout",
          "text": [
            "Found existing installation: geopandas 0.10.2\n",
            "Uninstalling geopandas-0.10.2:\n",
            "  Would remove:\n",
            "    /usr/local/lib/python3.7/dist-packages/geopandas-0.10.2.dist-info/*\n",
            "    /usr/local/lib/python3.7/dist-packages/geopandas/*\n",
            "Proceed (y/n)? y\n",
            "  Successfully uninstalled geopandas-0.10.2\n"
          ]
        }
      ]
    },
    {
      "cell_type": "code",
      "source": [
        "from tensorflow.python.client import device_lib\n",
        "device_lib.list_local_devices()"
      ],
      "metadata": {
        "colab": {
          "base_uri": "https://localhost:8080/"
        },
        "id": "4ZcKBj_DuB-s",
        "outputId": "8fc2678a-bacc-426a-cfa5-b77216e6e25a"
      },
      "execution_count": 5,
      "outputs": [
        {
          "output_type": "execute_result",
          "data": {
            "text/plain": [
              "[name: \"/device:CPU:0\"\n",
              " device_type: \"CPU\"\n",
              " memory_limit: 268435456\n",
              " locality {\n",
              " }\n",
              " incarnation: 4540149679128169305\n",
              " xla_global_id: -1, name: \"/device:GPU:0\"\n",
              " device_type: \"GPU\"\n",
              " memory_limit: 14465892352\n",
              " locality {\n",
              "   bus_id: 1\n",
              "   links {\n",
              "   }\n",
              " }\n",
              " incarnation: 4694490683191035006\n",
              " physical_device_desc: \"device: 0, name: Tesla T4, pci bus id: 0000:00:04.0, compute capability: 7.5\"\n",
              " xla_global_id: 416903419]"
            ]
          },
          "metadata": {},
          "execution_count": 5
        }
      ]
    },
    {
      "cell_type": "code",
      "source": [
        ""
      ],
      "metadata": {
        "id": "6kuZcaZLvrV5"
      },
      "execution_count": null,
      "outputs": []
    },
    {
      "cell_type": "markdown",
      "source": [
        "google.colab # To work with files on Google Colaboratory (Colab)\n",
        "os # operating systems operations such as path functions"
      ],
      "metadata": {
        "id": "nq49LN5yx3s_"
      }
    },
    {
      "cell_type": "markdown",
      "source": [
        "numpy # Mathemetical (general, vertors, matrices/arrays/tensors...) calculations\n",
        "scipy # Scientific computing\n",
        "pandas # Data processing\n",
        "geopandas # Geo-spatial data processing"
      ],
      "metadata": {
        "id": "RD5l5X5Gx6cY"
      }
    },
    {
      "cell_type": "markdown",
      "source": [
        "cv2 # OpenCV, for computer vision\n",
        "skimage # Image processing\n",
        "matplotlib # Usual plotting and data visialisation\n",
        "PIL # Pillow\n",
        "bokeh # ineractive visualisation"
      ],
      "metadata": {
        "id": "Hvbn3JLTx7AX"
      }
    },
    {
      "cell_type": "markdown",
      "source": [
        "sklearn # Machine learning\n",
        "tensorflow # Tensorflow 2 for deep learning and computer vision\n",
        "tensorflow.keras # high level API for tensorflow"
      ],
      "metadata": {
        "id": "OtOYyjpax_of"
      }
    },
    {
      "cell_type": "markdown",
      "source": [
        "ArcGIS # ArcGIS API for Python"
      ],
      "metadata": {
        "id": "MDLCau-ayK2Y"
      }
    },
    {
      "cell_type": "code",
      "source": [
        "!pip show scipy"
      ],
      "metadata": {
        "colab": {
          "base_uri": "https://localhost:8080/"
        },
        "id": "CzB_E4fs04XJ",
        "outputId": "1bae7b40-e475-4fea-c197-53fa930bd9bb"
      },
      "execution_count": 7,
      "outputs": [
        {
          "output_type": "stream",
          "name": "stdout",
          "text": [
            "Name: scipy\n",
            "Version: 1.4.1\n",
            "Summary: SciPy: Scientific Library for Python\n",
            "Home-page: https://www.scipy.org\n",
            "Author: None\n",
            "Author-email: None\n",
            "License: BSD\n",
            "Location: /usr/local/lib/python3.7/dist-packages\n",
            "Requires: numpy\n",
            "Required-by: yellowbrick, xgboost, Theano-PyMC, statsmodels, sklearn-pandas, seaborn, scs, scikit-learn, scikit-image, resampy, qdldl, pymc3, plotnine, osqp, mlxtend, missingno, matplotlib-venn, lightgbm, librosa, jaxlib, jax, imgaug, imbalanced-learn, hyperopt, gym, gensim, fastai, fa2, ecos, cvxpy, arviz, albumentations\n"
          ]
        }
      ]
    },
    {
      "cell_type": "code",
      "source": [
        "!pip install bokeh"
      ],
      "metadata": {
        "colab": {
          "base_uri": "https://localhost:8080/"
        },
        "id": "0W0rFDoq1D-V",
        "outputId": "52614c74-134a-4309-eb41-a88c6e562e69"
      },
      "execution_count": 14,
      "outputs": [
        {
          "output_type": "stream",
          "name": "stdout",
          "text": [
            "Requirement already satisfied: bokeh in /usr/local/lib/python3.7/dist-packages (2.4.2)\n",
            "Requirement already satisfied: pillow>=7.1.0 in /usr/local/lib/python3.7/dist-packages (from bokeh) (7.1.2)\n",
            "Requirement already satisfied: typing-extensions>=3.10.0 in /usr/local/lib/python3.7/dist-packages (from bokeh) (3.10.0.2)\n",
            "Requirement already satisfied: Jinja2>=2.9 in /usr/local/lib/python3.7/dist-packages (from bokeh) (2.11.3)\n",
            "Requirement already satisfied: tornado>=5.1 in /usr/local/lib/python3.7/dist-packages (from bokeh) (5.1.1)\n",
            "Requirement already satisfied: numpy>=1.11.3 in /usr/local/lib/python3.7/dist-packages (from bokeh) (1.19.5)\n",
            "Requirement already satisfied: PyYAML>=3.10 in /usr/local/lib/python3.7/dist-packages (from bokeh) (3.13)\n",
            "Requirement already satisfied: packaging>=16.8 in /usr/local/lib/python3.7/dist-packages (from bokeh) (21.3)\n",
            "Requirement already satisfied: MarkupSafe>=0.23 in /usr/local/lib/python3.7/dist-packages (from Jinja2>=2.9->bokeh) (2.0.1)\n",
            "Requirement already satisfied: pyparsing!=3.0.5,>=2.0.2 in /usr/local/lib/python3.7/dist-packages (from packaging>=16.8->bokeh) (3.0.6)\n"
          ]
        }
      ]
    },
    {
      "cell_type": "code",
      "source": [
        "!pip show bokeh"
      ],
      "metadata": {
        "colab": {
          "base_uri": "https://localhost:8080/"
        },
        "id": "GURalgvG1MhK",
        "outputId": "82352703-55d0-4035-cf42-12355094007e"
      },
      "execution_count": 15,
      "outputs": [
        {
          "output_type": "stream",
          "name": "stdout",
          "text": [
            "Name: bokeh\n",
            "Version: 2.4.2\n",
            "Summary: Interactive plots and applications in the browser from Python\n",
            "Home-page: https://github.com/bokeh/bokeh\n",
            "Author: Bokeh Team\n",
            "Author-email: info@bokeh.org\n",
            "License: BSD-3-Clause\n",
            "Location: /usr/local/lib/python3.7/dist-packages\n",
            "Requires: PyYAML, pillow, typing-extensions, tornado, packaging, Jinja2, numpy\n",
            "Required-by: panel\n"
          ]
        }
      ]
    },
    {
      "cell_type": "code",
      "source": [
        "!pip uninstall bokeh"
      ],
      "metadata": {
        "colab": {
          "base_uri": "https://localhost:8080/"
        },
        "id": "mgohYNcx1f4h",
        "outputId": "cc803b10-74e5-41dd-c399-0e64ec697e03"
      },
      "execution_count": 11,
      "outputs": [
        {
          "output_type": "stream",
          "name": "stdout",
          "text": [
            "Found existing installation: bokeh 2.3.3\n",
            "Uninstalling bokeh-2.3.3:\n",
            "  Would remove:\n",
            "    /usr/local/bin/bokeh\n",
            "    /usr/local/lib/python3.7/dist-packages/bokeh-2.3.3.dist-info/*\n",
            "    /usr/local/lib/python3.7/dist-packages/bokeh/*\n",
            "Proceed (y/n)? y\n",
            "  Successfully uninstalled bokeh-2.3.3\n"
          ]
        }
      ]
    },
    {
      "cell_type": "code",
      "source": [
        "!pip show bokeh"
      ],
      "metadata": {
        "colab": {
          "base_uri": "https://localhost:8080/"
        },
        "id": "WQ-0IRop1mGd",
        "outputId": "d3dc5b41-f3dd-4c17-f8f7-489bea728ad3"
      },
      "execution_count": 12,
      "outputs": [
        {
          "output_type": "stream",
          "name": "stdout",
          "text": [
            "\u001b[33mWARNING: Package(s) not found: bokeh\u001b[0m\n"
          ]
        }
      ]
    },
    {
      "cell_type": "code",
      "source": [
        "!pip install bokeh"
      ],
      "metadata": {
        "colab": {
          "base_uri": "https://localhost:8080/"
        },
        "id": "TaVDZ9gt1tZs",
        "outputId": "534d720c-fba0-444b-f00c-04e1e3f823a4"
      },
      "execution_count": 13,
      "outputs": [
        {
          "output_type": "stream",
          "name": "stdout",
          "text": [
            "Collecting bokeh\n",
            "  Downloading bokeh-2.4.2-py3-none-any.whl (18.5 MB)\n",
            "\u001b[K     |████████████████████████████████| 18.5 MB 1.2 MB/s \n",
            "\u001b[?25hRequirement already satisfied: pillow>=7.1.0 in /usr/local/lib/python3.7/dist-packages (from bokeh) (7.1.2)\n",
            "Requirement already satisfied: numpy>=1.11.3 in /usr/local/lib/python3.7/dist-packages (from bokeh) (1.19.5)\n",
            "Requirement already satisfied: Jinja2>=2.9 in /usr/local/lib/python3.7/dist-packages (from bokeh) (2.11.3)\n",
            "Requirement already satisfied: packaging>=16.8 in /usr/local/lib/python3.7/dist-packages (from bokeh) (21.3)\n",
            "Requirement already satisfied: PyYAML>=3.10 in /usr/local/lib/python3.7/dist-packages (from bokeh) (3.13)\n",
            "Requirement already satisfied: tornado>=5.1 in /usr/local/lib/python3.7/dist-packages (from bokeh) (5.1.1)\n",
            "Requirement already satisfied: typing-extensions>=3.10.0 in /usr/local/lib/python3.7/dist-packages (from bokeh) (3.10.0.2)\n",
            "Requirement already satisfied: MarkupSafe>=0.23 in /usr/local/lib/python3.7/dist-packages (from Jinja2>=2.9->bokeh) (2.0.1)\n",
            "Requirement already satisfied: pyparsing!=3.0.5,>=2.0.2 in /usr/local/lib/python3.7/dist-packages (from packaging>=16.8->bokeh) (3.0.6)\n",
            "Installing collected packages: bokeh\n",
            "\u001b[31mERROR: pip's dependency resolver does not currently take into account all the packages that are installed. This behaviour is the source of the following dependency conflicts.\n",
            "panel 0.12.1 requires bokeh<2.4.0,>=2.3.0, but you have bokeh 2.4.2 which is incompatible.\u001b[0m\n",
            "Successfully installed bokeh-2.4.2\n"
          ]
        }
      ]
    }
  ]
}